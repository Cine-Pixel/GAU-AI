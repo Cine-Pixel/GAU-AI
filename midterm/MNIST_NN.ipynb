{
 "cells": [
  {
   "cell_type": "markdown",
   "id": "f8592ca0",
   "metadata": {},
   "source": [
    "# MNIST Neural Network from scratch\n",
    "\n",
    "- Network with one 20 neuron hidden layer\n",
    "- Sigmoid activation function for all neurons"
   ]
  },
  {
   "cell_type": "markdown",
   "id": "01329d3b",
   "metadata": {},
   "source": [
    "## Import libraries"
   ]
  },
  {
   "cell_type": "code",
   "execution_count": 1,
   "id": "015a7f01",
   "metadata": {},
   "outputs": [],
   "source": [
    "import numpy as np\n",
    "import pandas as pd\n",
    "import matplotlib.pyplot as plt\n",
    "from sklearn.model_selection import train_test_split\n",
    "from sklearn.preprocessing import OneHotEncoder\n",
    "\n",
    "%matplotlib inline\n",
    "np.random.seed(1)"
   ]
  },
  {
   "cell_type": "markdown",
   "id": "7cf7c85e",
   "metadata": {},
   "source": [
    "## Load dataset"
   ]
  },
  {
   "cell_type": "code",
   "execution_count": 2,
   "id": "0b9c8685",
   "metadata": {},
   "outputs": [
    {
     "name": "stdout",
     "output_type": "stream",
     "text": [
      "(20000, 784)\n",
      "(20000, 10)\n"
     ]
    }
   ],
   "source": [
    "X = pd.read_csv('datasets/mnist.csv', header=None)\n",
    "y = np.array(X.loc[:, 0])\n",
    "\n",
    "X = np.array(X.drop(X.columns[[0]], axis=1)).astype(\"float64\") / 255\n",
    "y = OneHotEncoder(sparse=False).fit_transform(y.reshape(-1, 1))\n",
    "\n",
    "print(X.shape)\n",
    "print(y.shape)\n",
    "\n",
    "X_train, X_test, y_train, y_test = train_test_split(X, y)"
   ]
  },
  {
   "cell_type": "markdown",
   "id": "8c21173d",
   "metadata": {},
   "source": [
    "## Helper functions"
   ]
  },
  {
   "cell_type": "code",
   "execution_count": 3,
   "id": "0e095316",
   "metadata": {},
   "outputs": [],
   "source": [
    "def initialize_params():\n",
    "    w1 = np.random.uniform(-0.5, 0.5, (20, 784))\n",
    "    w2 = np.random.uniform(-0.5, 0.5, (10, 20))\n",
    "    b1 = np.zeros((20, 1))\n",
    "    b2 = np.zeros((10, 1))\n",
    "    return w1, w2, b1, b2\n",
    "\n",
    "def sigmoid(z):\n",
    "  return 1 / (1 + np.exp(-z))\n",
    "\n",
    "def d_sigmoid(z):\n",
    "  return sigmoid(z) * (1 - sigmoid(z))"
   ]
  },
  {
   "cell_type": "markdown",
   "id": "de386136",
   "metadata": {},
   "source": [
    "## Gradient descent with squared error cost function"
   ]
  },
  {
   "cell_type": "code",
   "execution_count": 4,
   "id": "c8df851f",
   "metadata": {},
   "outputs": [
    {
     "name": "stdout",
     "output_type": "stream",
     "text": [
      "Epoch : 1 - Acc: 51.95%\n",
      "Epoch : 2 - Acc: 78.96%\n",
      "Epoch : 3 - Acc: 85.41%\n",
      "Epoch : 4 - Acc: 87.88%\n",
      "Epoch : 5 - Acc: 89.03%\n",
      "Epoch : 6 - Acc: 89.77%\n",
      "Epoch : 7 - Acc: 90.4%\n",
      "Epoch : 8 - Acc: 91.02%\n",
      "Epoch : 9 - Acc: 91.37%\n",
      "Epoch : 10 - Acc: 91.65%\n"
     ]
    }
   ],
   "source": [
    "w1, w2, b1, b2 = initialize_params()\n",
    "\n",
    "learn_rate = 0.01\n",
    "nr_correct = 0\n",
    "epochs = 10\n",
    "for epoch in range(epochs):\n",
    "    for xi, yi in zip(X_train, y_train):\n",
    "        xi.shape += (1,)\n",
    "        yi.shape += (1,)\n",
    "        # forward pass [input -> hidden 1]\n",
    "        z1 = np.dot(w1, xi) + b1\n",
    "        a1 = sigmoid(z1)\n",
    "        # [hidden 1 -> output]\n",
    "        z2 = np.dot(w2, a1) + b2\n",
    "        a2 = sigmoid(z2) \n",
    "\n",
    "        # compute cost\n",
    "        c = np.power(a2 - yi, 2)\n",
    "        nr_correct += int(np.argmax(a2) == np.argmax(yi))\n",
    "\n",
    "        # backward pass [output -> hidden 1]\n",
    "        dc_da2 = 2*(a2 - yi)\n",
    "        da2_dz2 = d_sigmoid(z2)\n",
    "        dz2_dw2 = a1 \n",
    "        w2 = w2 - learn_rate * (dc_da2 * da2_dz2) @ dz2_dw2.T\n",
    "        b2 = b2 - learn_rate * (dc_da2 * da2_dz2)\n",
    "        \n",
    "        # [hidden 1 -> input]\n",
    "        da1_dz1 = w2.T @ (dc_da2 * da2_dz2) * d_sigmoid(z1)\n",
    "        w1 += -learn_rate * da1_dz1 @ xi.T\n",
    "        b1 += -learn_rate * da1_dz1 \n",
    "        \n",
    "    # Show accuracy for this epoch\n",
    "    print(f\"Epoch : {epoch+1} - Acc: {round((nr_correct / X_train.shape[0]) * 100, 2)}%\")\n",
    "    nr_correct = 0"
   ]
  },
  {
   "cell_type": "markdown",
   "id": "19fbeb02",
   "metadata": {},
   "source": [
    "## Evaluate on test set"
   ]
  },
  {
   "cell_type": "code",
   "execution_count": 11,
   "id": "8156b657",
   "metadata": {},
   "outputs": [
    {
     "name": "stdout",
     "output_type": "stream",
     "text": [
      "Acc: 91.02%\n"
     ]
    }
   ],
   "source": [
    "# make prediction\n",
    "def predict(p):\n",
    "      p.shape += (1,)\n",
    "      assert p.shape == (28*28, 1)\n",
    "      \n",
    "      # [input -> hidden 1]\n",
    "      z1 = np.dot(w1, p) + b1\n",
    "      a1 = sigmoid(z1)\n",
    "      # [hidden 1 -> output]\n",
    "      z2 = np.dot(w2, a1) + b2\n",
    "      a2 = sigmoid(z2) \n",
    "  \n",
    "      return np.argmax(a2)\n",
    "\n",
    "correct = 0\n",
    "for xi, yi in zip(X_test, y_test):\n",
    "    correct += int(predict(xi) == np.argmax(yi))\n",
    "    \n",
    "print(f\"Acc: {round((correct / X_test.shape[0]) * 100, 2)}%\")"
   ]
  },
  {
   "cell_type": "markdown",
   "id": "30f6fd81",
   "metadata": {},
   "source": [
    "## Test manually"
   ]
  },
  {
   "cell_type": "code",
   "execution_count": 17,
   "id": "6a0911e1",
   "metadata": {},
   "outputs": [
    {
     "data": {
      "text/plain": [
       "Text(0.5, 1.0, 'This looks like 8')"
      ]
     },
     "execution_count": 17,
     "metadata": {},
     "output_type": "execute_result"
    },
    {
     "data": {
      "image/png": "[encoded data removed]",
      "text/plain": [
       "<Figure size 800x800 with 1 Axes>"
      ]
     },
     "metadata": {},
     "output_type": "display_data"
    },
    {
     "ename": "",
     "evalue": "",
     "output_type": "error",
     "traceback": [
      "\u001b[1;31mThe Kernel crashed while executing code in the the current cell or a previous cell. Please review the code in the cell(s) to identify a possible cause of the failure. Click <a href='https://aka.ms/vscodeJupyterKernelCrash'>here</a> for more info. View Jupyter <a href='command:jupyter.viewOutput'>log</a> for further details."
     ]
    }
   ],
   "source": [
    "plt.figure(figsize=(8, 8))\n",
    "sample = X_test[1]\n",
    "plt.imshow(sample.reshape(28, 28))\n",
    "plt.title(f\"This looks like {predict(sample)}\", fontsize=40)"
   ]
  }
 ],
 "metadata": {
  "kernelspec": {
   "display_name": "Python 3.10.8 ('venv': venv)",
   "language": "python",
   "name": "python3"
  },
  "language_info": {
   "codemirror_mode": {
    "name": "ipython",
    "version": 3
   },
   "file_extension": ".py",
   "mimetype": "text/x-python",
   "name": "python",
   "nbconvert_exporter": "python",
   "pygments_lexer": "ipython3",
   "version": "3.10.8"
  },
  "vscode": {
   "interpreter": {
    "hash": "76da5ea6bc21d2df02ced17972700875fc606ec42ecb4d4d97610328c68e374a"
   }
  }
 },
 "nbformat": 4,
 "nbformat_minor": 5
}
